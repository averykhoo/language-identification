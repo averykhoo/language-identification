{
 "cells": [
  {
   "cell_type": "code",
   "execution_count": 1,
   "metadata": {
    "ExecuteTime": {
     "end_time": "2020-11-04T09:33:24.449841Z",
     "start_time": "2020-11-04T09:33:24.443850Z"
    }
   },
   "outputs": [],
   "source": [
    "import csv\n",
    "from collections import Counter"
   ]
  },
  {
   "cell_type": "code",
   "execution_count": 4,
   "metadata": {
    "ExecuteTime": {
     "end_time": "2020-11-04T08:01:21.571647Z",
     "start_time": "2020-11-04T07:47:43.427059Z"
    },
    "scrolled": true
   },
   "outputs": [
    {
     "name": "stdout",
     "output_type": "stream",
     "text": [
      "1000000\n",
      "2000000\n",
      "3000000\n",
      "4000000\n",
      "5000000\n",
      "6000000\n",
      "7000000\n",
      "8000000\n",
      "9000000\n",
      "10000000\n",
      "11000000\n",
      "12000000\n",
      "13000000\n",
      "14000000\n",
      "15000000\n",
      "16000000\n",
      "17000000\n",
      "18000000\n",
      "19000000\n",
      "20000000\n",
      "21000000\n",
      "22000000\n",
      "23000000\n",
      "24000000\n",
      "25000000\n",
      "26000000\n",
      "27000000\n",
      "28000000\n",
      "29000000\n",
      "30000000\n",
      "31000000\n",
      "32000000\n",
      "33000000\n",
      "34000000\n",
      "35000000\n",
      "36000000\n",
      "37000000\n",
      "38000000\n",
      "39000000\n",
      "40000000\n",
      "41000000\n",
      "42000000\n",
      "43000000\n",
      "44000000\n",
      "45000000\n",
      "46000000\n",
      "47000000\n",
      "48000000\n",
      "49000000\n",
      "50000000\n",
      "51000000\n",
      "52000000\n",
      "53000000\n",
      "54000000\n",
      "55000000\n",
      "56000000\n",
      "57000000\n",
      "58000000\n",
      "59000000\n",
      "60000000\n",
      "61000000\n",
      "62000000\n",
      "63000000\n",
      "64000000\n",
      "65000000\n",
      "66000000\n",
      "67000000\n",
      "68000000\n",
      "69000000\n",
      "70000000\n",
      "71000000\n",
      "72000000\n",
      "73000000\n",
      "74000000\n",
      "75000000\n",
      "76000000\n",
      "77000000\n",
      "78000000\n",
      "79000000\n",
      "80000000\n",
      "81000000\n",
      "82000000\n",
      "83000000\n",
      "84000000\n",
      "85000000\n",
      "86000000\n",
      "87000000\n",
      "88000000\n",
      "89000000\n",
      "90000000\n",
      "91000000\n",
      "92000000\n",
      "93000000\n",
      "94000000\n",
      "95000000\n",
      "96000000\n",
      "97000000\n",
      "98000000\n",
      "99000000\n",
      "100000000\n",
      "101000000\n",
      "102000000\n",
      "103000000\n",
      "104000000\n",
      "105000000\n",
      "106000000\n",
      "107000000\n",
      "108000000\n",
      "109000000\n",
      "110000000\n",
      "111000000\n",
      "112000000\n",
      "113000000\n",
      "114000000\n",
      "115000000\n",
      "116000000\n",
      "117000000\n",
      "118000000\n",
      "119000000\n",
      "120000000\n",
      "121000000\n",
      "122000000\n",
      "123000000\n",
      "124000000\n"
     ]
    }
   ],
   "source": [
    "counter_per_lang = dict()\n",
    "length_counters = dict()\n",
    "with open('MASTER.LINGUISTIC.1GRAM.big.csv', 'rt', encoding='utf8', newline='') as f:\n",
    "    c = csv.reader(f)\n",
    "    for i, row in enumerate(c):\n",
    "        if (i + 1) % 1000000 == 0:\n",
    "            print(i + 1)\n",
    "        assert len(row) == 3, row\n",
    "        count = int(row[2])\n",
    "        \n",
    "        length_counters.setdefault(row[0], dict()).setdefault(len(row[1]), []).append(count)\n",
    "        char_counter = counter_per_lang.setdefault(row[0], Counter())\n",
    "        for char in row[1]:\n",
    "            char_counter[char] += count"
   ]
  },
  {
   "cell_type": "code",
   "execution_count": 5,
   "metadata": {
    "ExecuteTime": {
     "end_time": "2020-11-04T08:01:21.589607Z",
     "start_time": "2020-11-04T08:01:21.573640Z"
    }
   },
   "outputs": [
    {
     "data": {
      "text/plain": [
       "dict_keys(['Korean', 'ENGLISH', 'POLISH', 'Chinese', 'SPANISH', 'SWEDISH', 'INDONESIAN', 'Japanese', 'ChineseT', 'ARABIC', 'MALAGASY', 'FRENCH', 'RUSSIAN', 'BELARUSIAN', 'TAMIL', 'TURKISH', 'DANISH', 'CROATIAN', 'ITALIAN', 'MACEDONIAN', 'DUTCH', 'CZECH', 'GREEK', 'GERMAN', 'TELUGU', 'SLOVENIAN', 'FINNISH', 'HUNGARIAN', 'BIHARI', 'PORTUGUESE', 'VIETNAMESE', 'MALAYALAM', 'ALBANIAN', 'MALTESE', 'Unknown', 'GALICIAN', 'ESTONIAN', 'ARMENIAN', 'NORWEGIAN', 'SERBIAN', 'HEBREW', 'SLOVAK', 'THAI', 'UKRAINIAN', 'ROMANIAN', 'GEORGIAN', 'LITHUANIAN', 'HINDI', 'BENGALI', 'ICELANDIC', 'LATVIAN', 'PERSIAN', 'SWAHILI', 'TAGALOG', 'UZBEK', 'CATALAN', 'BOSNIAN', 'FRISIAN', 'ORIYA', 'SINHALESE', 'MARATHI', 'TURKMEN', 'AZERBAIJANI', 'BASQUE', 'NORWEGIAN_N', 'BURMESE', 'BULGARIAN', 'TIGRINYA', 'SOMALI', 'LUXEMBOURGISH', 'MALAY', 'URDU', 'GUJARATI', 'KAZAKH', 'TAJIK', 'KANNADA', 'HAUSA', 'DHIVEHI', 'PASHTO', 'MONGOLIAN', 'KURDISH', 'PUNJABI', 'KINYARWANDA', 'WELSH', 'RHAETO_ROMANCE', 'AYMARA', 'WARAY_PHILIPPINES', 'OROMO', 'KYRGYZ', 'IRISH', 'SCOTS_GAELIC', 'GANDA', 'AFRIKAANS', 'FAROESE', 'YORUBA', 'NYANJA', 'AMHARIC', 'LATIN', 'CORSICAN', 'IGBO', 'SESELWA', 'SAMOAN', 'LINGALA', 'XHOSA', 'TIBETAN', 'OCCITAN', 'NEPALI', 'GUARANI', 'HMONG', 'TATAR'])"
      ]
     },
     "execution_count": 5,
     "metadata": {},
     "output_type": "execute_result"
    }
   ],
   "source": [
    "counter_per_lang.keys()"
   ]
  },
  {
   "cell_type": "code",
   "execution_count": 6,
   "metadata": {
    "ExecuteTime": {
     "end_time": "2020-11-04T08:06:22.264227Z",
     "start_time": "2020-11-04T08:06:22.259605Z"
    }
   },
   "outputs": [],
   "source": [
    "import json"
   ]
  },
  {
   "cell_type": "code",
   "execution_count": 9,
   "metadata": {
    "ExecuteTime": {
     "end_time": "2020-11-04T08:07:08.659268Z",
     "start_time": "2020-11-04T08:07:08.400789Z"
    }
   },
   "outputs": [],
   "source": [
    "with open('MASTER.LINGUISTIC.1GRAM.char-count.big.csv', 'wt', encoding='utf8') as f:\n",
    "    json.dump(counter_per_lang, f, indent=4)"
   ]
  },
  {
   "cell_type": "code",
   "execution_count": 10,
   "metadata": {
    "ExecuteTime": {
     "end_time": "2020-11-04T08:09:03.607309Z",
     "start_time": "2020-11-04T08:07:09.190140Z"
    }
   },
   "outputs": [],
   "source": [
    "with open('MASTER.LINGUISTIC.1GRAM.len-count.big.csv', 'wt', encoding='utf8') as f:\n",
    "    json.dump(length_counters, f, indent=4)"
   ]
  },
  {
   "cell_type": "code",
   "execution_count": 13,
   "metadata": {
    "ExecuteTime": {
     "end_time": "2020-11-04T08:11:14.133748Z",
     "start_time": "2020-11-04T08:11:14.126766Z"
    }
   },
   "outputs": [],
   "source": [
    "lc2 = dict()\n",
    "for k, v in length_counters.items():\n",
    "    for l, counts in v.items():\n",
    "        lc2.setdefault(k, dict())[l] = len(counts)"
   ]
  },
  {
   "cell_type": "code",
   "execution_count": 14,
   "metadata": {
    "ExecuteTime": {
     "end_time": "2020-11-04T08:11:17.247999Z",
     "start_time": "2020-11-04T08:11:17.219077Z"
    }
   },
   "outputs": [],
   "source": [
    "with open('MASTER.LINGUISTIC.1GRAM.len-count-n.big.json', 'wt', encoding='utf8') as f:\n",
    "    json.dump(lc2, f, indent=4)"
   ]
  },
  {
   "cell_type": "code",
   "execution_count": 15,
   "metadata": {
    "ExecuteTime": {
     "end_time": "2020-11-04T08:11:17.218224Z",
     "start_time": "2020-11-04T08:11:14.833457Z"
    }
   },
   "outputs": [],
   "source": [
    "lc3 = dict()\n",
    "for k, v in length_counters.items():\n",
    "    for l, counts in v.items():\n",
    "        lc3.setdefault(k, dict())[l] = sum(counts)"
   ]
  },
  {
   "cell_type": "code",
   "execution_count": 16,
   "metadata": {
    "ExecuteTime": {
     "end_time": "2020-11-04T08:11:17.247999Z",
     "start_time": "2020-11-04T08:11:17.219077Z"
    }
   },
   "outputs": [],
   "source": [
    "with open('MASTER.LINGUISTIC.1GRAM.len-count-sum.big.json', 'wt', encoding='utf8') as f:\n",
    "    json.dump(lc3, f, indent=4)"
   ]
  },
  {
   "cell_type": "code",
   "execution_count": null,
   "metadata": {},
   "outputs": [],
   "source": [
    "with open('MASTER.LINGUISTIC.1GRAM.len-count-sum.big.json', 'rt', encoding='utf8') as f:\n",
    "    json.dump(lc3, f, indent=4)"
   ]
  },
  {
   "cell_type": "code",
   "execution_count": 3,
   "metadata": {
    "ExecuteTime": {
     "end_time": "2020-11-04T09:45:56.476786Z",
     "start_time": "2020-11-04T09:35:07.603312Z"
    },
    "scrolled": true
   },
   "outputs": [
    {
     "name": "stdout",
     "output_type": "stream",
     "text": [
      "1000000\n",
      "2000000\n",
      "3000000\n",
      "4000000\n",
      "5000000\n",
      "6000000\n",
      "7000000\n",
      "8000000\n",
      "9000000\n",
      "10000000\n",
      "11000000\n",
      "12000000\n",
      "13000000\n",
      "14000000\n",
      "15000000\n",
      "16000000\n",
      "17000000\n",
      "18000000\n",
      "19000000\n",
      "20000000\n",
      "21000000\n",
      "22000000\n",
      "23000000\n",
      "24000000\n",
      "25000000\n",
      "26000000\n",
      "27000000\n",
      "28000000\n",
      "29000000\n",
      "30000000\n",
      "31000000\n",
      "32000000\n",
      "33000000\n",
      "34000000\n",
      "35000000\n",
      "36000000\n",
      "37000000\n",
      "38000000\n",
      "39000000\n",
      "40000000\n",
      "41000000\n",
      "42000000\n",
      "43000000\n",
      "44000000\n",
      "45000000\n",
      "46000000\n",
      "47000000\n",
      "48000000\n",
      "49000000\n",
      "50000000\n",
      "51000000\n",
      "52000000\n",
      "53000000\n",
      "54000000\n",
      "55000000\n",
      "56000000\n",
      "57000000\n",
      "58000000\n",
      "59000000\n",
      "60000000\n",
      "61000000\n",
      "62000000\n",
      "63000000\n",
      "64000000\n",
      "65000000\n",
      "66000000\n",
      "67000000\n",
      "68000000\n",
      "69000000\n",
      "70000000\n",
      "71000000\n",
      "72000000\n",
      "73000000\n",
      "74000000\n",
      "75000000\n",
      "76000000\n",
      "77000000\n",
      "78000000\n",
      "79000000\n",
      "80000000\n",
      "81000000\n",
      "82000000\n",
      "83000000\n",
      "84000000\n",
      "85000000\n",
      "86000000\n",
      "87000000\n",
      "88000000\n",
      "89000000\n",
      "90000000\n",
      "91000000\n",
      "92000000\n",
      "93000000\n",
      "94000000\n",
      "95000000\n",
      "96000000\n",
      "97000000\n",
      "98000000\n",
      "99000000\n",
      "100000000\n",
      "101000000\n",
      "102000000\n",
      "103000000\n",
      "104000000\n",
      "105000000\n",
      "106000000\n",
      "107000000\n",
      "108000000\n",
      "109000000\n",
      "110000000\n",
      "111000000\n",
      "112000000\n",
      "113000000\n",
      "114000000\n",
      "115000000\n",
      "116000000\n",
      "117000000\n",
      "118000000\n",
      "119000000\n",
      "120000000\n",
      "121000000\n",
      "122000000\n",
      "123000000\n",
      "124000000\n"
     ]
    }
   ],
   "source": [
    "counter_per_lang = dict()\n",
    "with open('MASTER.LINGUISTIC.1GRAM.big.csv', 'rt', encoding='utf8', newline='') as f:\n",
    "    c = csv.reader(f)\n",
    "    for i, row in enumerate(c):\n",
    "        if (i + 1) % 1000000 == 0:\n",
    "            print(i + 1)\n",
    "        assert len(row) == 3, row\n",
    "        counter_per_lang.setdefault(row[0], Counter()).update(set(row[1]))"
   ]
  },
  {
   "cell_type": "code",
   "execution_count": 4,
   "metadata": {
    "ExecuteTime": {
     "end_time": "2020-11-04T09:45:56.835791Z",
     "start_time": "2020-11-04T09:45:56.478633Z"
    }
   },
   "outputs": [],
   "source": [
    "with open('MASTER.LINGUISTIC.1GRAM.big.char-count-uniq.json', 'wt', encoding='utf8') as f:\n",
    "    json.dump(counter_per_lang, f, indent=4)"
   ]
  },
  {
   "cell_type": "code",
   "execution_count": 7,
   "metadata": {
    "ExecuteTime": {
     "end_time": "2020-11-04T16:11:42.076322Z",
     "start_time": "2020-11-04T16:11:42.066347Z"
    }
   },
   "outputs": [
    {
     "data": {
      "text/plain": [
       "[('\\u3000', 1109082),\n",
       " ('1', 1002394),\n",
       " ('0', 903750),\n",
       " ('2', 873077),\n",
       " ('的', 743187),\n",
       " ('大', 705973),\n",
       " ('人', 694832),\n",
       " ('國', 668126),\n",
       " ('中', 612427),\n",
       " ('3', 579980),\n",
       " ('5', 558612),\n",
       " ('年', 533398),\n",
       " ('一', 530800),\n",
       " ('不', 529384),\n",
       " ('4', 483711),\n",
       " ('台', 478448),\n",
       " ('8', 450129),\n",
       " ('新', 422945),\n",
       " ('美', 420987),\n",
       " ('會', 415316)]"
      ]
     },
     "execution_count": 7,
     "metadata": {},
     "output_type": "execute_result"
    }
   ],
   "source": [
    "counter_per_lang['ChineseT'].most_common(20)"
   ]
  },
  {
   "cell_type": "code",
   "execution_count": null,
   "metadata": {},
   "outputs": [],
   "source": []
  }
 ],
 "metadata": {
  "kernelspec": {
   "display_name": "Python 3",
   "language": "python",
   "name": "python3"
  },
  "language_info": {
   "codemirror_mode": {
    "name": "ipython",
    "version": 3
   },
   "file_extension": ".py",
   "mimetype": "text/x-python",
   "name": "python",
   "nbconvert_exporter": "python",
   "pygments_lexer": "ipython3",
   "version": "3.7.3"
  },
  "toc": {
   "base_numbering": 1,
   "nav_menu": {},
   "number_sections": true,
   "sideBar": true,
   "skip_h1_title": false,
   "title_cell": "Table of Contents",
   "title_sidebar": "Contents",
   "toc_cell": false,
   "toc_position": {},
   "toc_section_display": true,
   "toc_window_display": false
  }
 },
 "nbformat": 4,
 "nbformat_minor": 4
}
