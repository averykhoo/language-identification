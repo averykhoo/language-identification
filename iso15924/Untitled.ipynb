{
 "cells": [
  {
   "cell_type": "code",
   "execution_count": 2,
   "metadata": {
    "ExecuteTime": {
     "end_time": "2020-11-09T07:50:19.000592Z",
     "start_time": "2020-11-09T07:50:18.638327Z"
    }
   },
   "outputs": [],
   "source": [
    "import pandas as pd"
   ]
  },
  {
   "cell_type": "code",
   "execution_count": 3,
   "metadata": {
    "ExecuteTime": {
     "end_time": "2020-11-09T07:50:41.550525Z",
     "start_time": "2020-11-09T07:50:41.518597Z"
    }
   },
   "outputs": [
    {
     "data": {
      "text/html": [
       "<div>\n",
       "<style scoped>\n",
       "    .dataframe tbody tr th:only-of-type {\n",
       "        vertical-align: middle;\n",
       "    }\n",
       "\n",
       "    .dataframe tbody tr th {\n",
       "        vertical-align: top;\n",
       "    }\n",
       "\n",
       "    .dataframe thead th {\n",
       "        text-align: right;\n",
       "    }\n",
       "</style>\n",
       "<table border=\"1\" class=\"dataframe\">\n",
       "  <thead>\n",
       "    <tr style=\"text-align: right;\">\n",
       "      <th></th>\n",
       "      <th>Code</th>\n",
       "      <th>N°</th>\n",
       "      <th>English Name</th>\n",
       "      <th>Nom français</th>\n",
       "      <th>PVA</th>\n",
       "      <th>Unicode Version</th>\n",
       "      <th>Date</th>\n",
       "    </tr>\n",
       "  </thead>\n",
       "  <tbody>\n",
       "    <tr>\n",
       "      <th>0</th>\n",
       "      <td>Adlm</td>\n",
       "      <td>166</td>\n",
       "      <td>Adlam</td>\n",
       "      <td>adlam</td>\n",
       "      <td>Adlam</td>\n",
       "      <td>9.0</td>\n",
       "      <td>2016-12-05</td>\n",
       "    </tr>\n",
       "    <tr>\n",
       "      <th>1</th>\n",
       "      <td>Afak</td>\n",
       "      <td>439</td>\n",
       "      <td>Afaka</td>\n",
       "      <td>afaka</td>\n",
       "      <td>NaN</td>\n",
       "      <td>NaN</td>\n",
       "      <td>2010-12-21</td>\n",
       "    </tr>\n",
       "    <tr>\n",
       "      <th>2</th>\n",
       "      <td>Aghb</td>\n",
       "      <td>239</td>\n",
       "      <td>Caucasian Albanian</td>\n",
       "      <td>aghbanien</td>\n",
       "      <td>Caucasian_Albanian</td>\n",
       "      <td>7.0</td>\n",
       "      <td>2014-11-15</td>\n",
       "    </tr>\n",
       "    <tr>\n",
       "      <th>3</th>\n",
       "      <td>Ahom</td>\n",
       "      <td>338</td>\n",
       "      <td>Ahom, Tai Ahom</td>\n",
       "      <td>âhom</td>\n",
       "      <td>Ahom</td>\n",
       "      <td>8.0</td>\n",
       "      <td>2015-07-07</td>\n",
       "    </tr>\n",
       "    <tr>\n",
       "      <th>4</th>\n",
       "      <td>Arab</td>\n",
       "      <td>160</td>\n",
       "      <td>Arabic</td>\n",
       "      <td>arabe</td>\n",
       "      <td>Arabic</td>\n",
       "      <td>1.1</td>\n",
       "      <td>2004-05-01</td>\n",
       "    </tr>\n",
       "    <tr>\n",
       "      <th>...</th>\n",
       "      <td>...</td>\n",
       "      <td>...</td>\n",
       "      <td>...</td>\n",
       "      <td>...</td>\n",
       "      <td>...</td>\n",
       "      <td>...</td>\n",
       "      <td>...</td>\n",
       "    </tr>\n",
       "    <tr>\n",
       "      <th>198</th>\n",
       "      <td>Zsye</td>\n",
       "      <td>993</td>\n",
       "      <td>Symbols (Emoji variant)</td>\n",
       "      <td>symboles (variante émoji)</td>\n",
       "      <td>NaN</td>\n",
       "      <td>6.0</td>\n",
       "      <td>2015-12-16</td>\n",
       "    </tr>\n",
       "    <tr>\n",
       "      <th>199</th>\n",
       "      <td>Zsym</td>\n",
       "      <td>996</td>\n",
       "      <td>Symbols</td>\n",
       "      <td>symboles</td>\n",
       "      <td>NaN</td>\n",
       "      <td>1.1</td>\n",
       "      <td>2007-11-26</td>\n",
       "    </tr>\n",
       "    <tr>\n",
       "      <th>200</th>\n",
       "      <td>Zxxx</td>\n",
       "      <td>997</td>\n",
       "      <td>Code for unwritten documents</td>\n",
       "      <td>codet pour les documents non écrits</td>\n",
       "      <td>NaN</td>\n",
       "      <td>NaN</td>\n",
       "      <td>2011-06-21</td>\n",
       "    </tr>\n",
       "    <tr>\n",
       "      <th>201</th>\n",
       "      <td>Zyyy</td>\n",
       "      <td>998</td>\n",
       "      <td>Code for undetermined script</td>\n",
       "      <td>codet pour écriture indéterminée</td>\n",
       "      <td>Common</td>\n",
       "      <td>NaN</td>\n",
       "      <td>2004-05-29</td>\n",
       "    </tr>\n",
       "    <tr>\n",
       "      <th>202</th>\n",
       "      <td>Zzzz</td>\n",
       "      <td>999</td>\n",
       "      <td>Code for uncoded script</td>\n",
       "      <td>codet pour écriture non codée</td>\n",
       "      <td>Unknown</td>\n",
       "      <td>NaN</td>\n",
       "      <td>2006-10-10</td>\n",
       "    </tr>\n",
       "  </tbody>\n",
       "</table>\n",
       "<p>203 rows × 7 columns</p>\n",
       "</div>"
      ],
      "text/plain": [
       "     Code   N°                  English Name  \\\n",
       "0    Adlm  166                         Adlam   \n",
       "1    Afak  439                         Afaka   \n",
       "2    Aghb  239            Caucasian Albanian   \n",
       "3    Ahom  338                Ahom, Tai Ahom   \n",
       "4    Arab  160                        Arabic   \n",
       "..    ...  ...                           ...   \n",
       "198  Zsye  993       Symbols (Emoji variant)   \n",
       "199  Zsym  996                       Symbols   \n",
       "200  Zxxx  997  Code for unwritten documents   \n",
       "201  Zyyy  998  Code for undetermined script   \n",
       "202  Zzzz  999       Code for uncoded script   \n",
       "\n",
       "                            Nom français                 PVA  Unicode Version  \\\n",
       "0                                  adlam               Adlam              9.0   \n",
       "1                                  afaka                 NaN              NaN   \n",
       "2                              aghbanien  Caucasian_Albanian              7.0   \n",
       "3                                   âhom                Ahom              8.0   \n",
       "4                                  arabe              Arabic              1.1   \n",
       "..                                   ...                 ...              ...   \n",
       "198            symboles (variante émoji)                 NaN              6.0   \n",
       "199                             symboles                 NaN              1.1   \n",
       "200  codet pour les documents non écrits                 NaN              NaN   \n",
       "201     codet pour écriture indéterminée              Common              NaN   \n",
       "202        codet pour écriture non codée             Unknown              NaN   \n",
       "\n",
       "           Date  \n",
       "0    2016-12-05  \n",
       "1    2010-12-21  \n",
       "2    2014-11-15  \n",
       "3    2015-07-07  \n",
       "4    2004-05-01  \n",
       "..          ...  \n",
       "198  2015-12-16  \n",
       "199  2007-11-26  \n",
       "200  2011-06-21  \n",
       "201  2004-05-29  \n",
       "202  2006-10-10  \n",
       "\n",
       "[203 rows x 7 columns]"
      ]
     },
     "execution_count": 3,
     "metadata": {},
     "output_type": "execute_result"
    }
   ],
   "source": [
    "df = pd.read_csv('iso15924-utf8-20200424.txt', encoding='utf8', delimiter=';')\n",
    "df"
   ]
  },
  {
   "cell_type": "code",
   "execution_count": 8,
   "metadata": {
    "ExecuteTime": {
     "end_time": "2020-11-09T07:52:33.214256Z",
     "start_time": "2020-11-09T07:52:33.206279Z"
    }
   },
   "outputs": [],
   "source": [
    "df.to_csv('iso15924.csv', index=False)"
   ]
  },
  {
   "cell_type": "code",
   "execution_count": 5,
   "metadata": {
    "ExecuteTime": {
     "end_time": "2020-11-09T07:51:52.013784Z",
     "start_time": "2020-11-09T07:51:52.006802Z"
    }
   },
   "outputs": [
    {
     "data": {
      "text/plain": [
       "Index(['Code', 'N°', 'English Name', 'Nom français', 'PVA', 'Unicode Version',\n",
       "       'Date'],\n",
       "      dtype='object')"
      ]
     },
     "execution_count": 5,
     "metadata": {},
     "output_type": "execute_result"
    }
   ],
   "source": [
    "df.columns"
   ]
  },
  {
   "cell_type": "code",
   "execution_count": 6,
   "metadata": {
    "ExecuteTime": {
     "end_time": "2020-11-09T07:52:04.590107Z",
     "start_time": "2020-11-09T07:52:04.586106Z"
    }
   },
   "outputs": [],
   "source": [
    "df['Sub-Codes'] = ''"
   ]
  },
  {
   "cell_type": "code",
   "execution_count": 7,
   "metadata": {
    "ExecuteTime": {
     "end_time": "2020-11-09T07:52:27.337816Z",
     "start_time": "2020-11-09T07:52:27.328836Z"
    }
   },
   "outputs": [],
   "source": [
    "df = df[['Code', 'Sub-Codes', 'N°', 'English Name', 'Nom français', 'PVA', 'Unicode Version', 'Date']]"
   ]
  },
  {
   "cell_type": "code",
   "execution_count": null,
   "metadata": {},
   "outputs": [],
   "source": []
  }
 ],
 "metadata": {
  "kernelspec": {
   "display_name": "Python 3",
   "language": "python",
   "name": "python3"
  },
  "language_info": {
   "codemirror_mode": {
    "name": "ipython",
    "version": 3
   },
   "file_extension": ".py",
   "mimetype": "text/x-python",
   "name": "python",
   "nbconvert_exporter": "python",
   "pygments_lexer": "ipython3",
   "version": "3.7.3"
  },
  "toc": {
   "base_numbering": 1,
   "nav_menu": {},
   "number_sections": true,
   "sideBar": true,
   "skip_h1_title": false,
   "title_cell": "Table of Contents",
   "title_sidebar": "Contents",
   "toc_cell": false,
   "toc_position": {},
   "toc_section_display": true,
   "toc_window_display": false
  }
 },
 "nbformat": 4,
 "nbformat_minor": 4
}
