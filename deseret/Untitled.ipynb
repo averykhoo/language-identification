{
 "cells": [
  {
   "cell_type": "code",
   "execution_count": 1,
   "metadata": {
    "ExecuteTime": {
     "end_time": "2020-11-12T14:59:32.072910Z",
     "start_time": "2020-11-12T14:59:31.954149Z"
    }
   },
   "outputs": [],
   "source": [
    "from bs4 import BeautifulSoup"
   ]
  },
  {
   "cell_type": "code",
   "execution_count": 2,
   "metadata": {
    "ExecuteTime": {
     "end_time": "2020-11-12T14:59:32.898565Z",
     "start_time": "2020-11-12T14:59:32.077771Z"
    }
   },
   "outputs": [],
   "source": [
    "with open('Triple.html', 'r', encoding='utf8') as f:\n",
    "    soup = BeautifulSoup(f.read().translate(str.maketrans({'Ä': '𐐀', '¥': '𐐨',  # LONG I (i as in machine)\n",
    "                                                           'Å': '𐐁', '∂': '𐐩',  # LONG E (e as in grey)\n",
    "                                                           'Ç': '𐐂', '∑': '𐐪',  # LONG A (a as in art)\n",
    "                                                           'É': '𐐃', '∏': '𐐫',  # LONG AH (au as in aught)\n",
    "                                                           'Ñ': '𐐄', 'π': '𐐬',  # LONG O (o as in tone)\n",
    "                                                           'Ö': '𐐅', '∫': '𐐭',  # LONG OO (oo as in moo)\n",
    "                                                           'Ü': '𐐆', 'ª': '𐐮',  # SHORT I (i as in it)\n",
    "                                                           'á': '𐐇', 'º': '𐐯',  # SHORT E (e as in desert)\n",
    "                                                           'à': '𐐈', 'Ω': '𐐰',  # SHORT A (a as in cat)\n",
    "                                                           'â': '𐐉', 'æ': '𐐱',  # SHORT AH (o as in cot)\n",
    "                                                           'ä': '𐐊', 'ø': '𐐲',  # SHORT O (o as in woman)\n",
    "                                                           'ã': '𐐋', '¿': '𐐳',  # SHORT OO (oo as in book)\n",
    "                                                           'å': '𐐌', '¡': '𐐴',  # AY (the sound of the pronoun I)\n",
    "                                                           'ç': '𐐍', 'À': '𐐵',  # OW (ow as in cow)\n",
    "                                                           'é': '𐐎', 'Ã': '𐐶',  # WU (w as in wonder)\n",
    "                                                           'è': '𐐏', 'Õ': '𐐷',  # YEE (y as in you)\n",
    "                                                           'ê': '𐐐', 'Œ': '𐐸',  # H (h as in hurrah)\n",
    "                                                           'ë': '𐐑', 'œ': '𐐹',  # PEE (p as in put)\n",
    "                                                           'í': '𐐒', 'ÿ': '𐐺',  # BEE (b as in bee)\n",
    "                                                           'ì': '𐐓', 'Ÿ': '𐐻',  # TEE (t as in teach)\n",
    "                                                           'î': '𐐔', 'ﬁ': '𐐼',  # DEE (d as in Deseret)\n",
    "                                                           'ï': '𐐕', 'ﬂ': '𐐽',  # CHEE (ch as in cheese)\n",
    "                                                           'ñ': '𐐖', 'Â': '𐐾',  # JEE (j as in John)\n",
    "                                                           'ó': '𐐗', 'Ê': '𐐿',  # KAY (k as in kitten)\n",
    "                                                           'ò': '𐐘', 'Á': '𐑀',  # GAY (g as in good)\n",
    "                                                           'ô': '𐐙', 'Ë': '𐑁',  # EF (f as in France)\n",
    "                                                           'ö': '𐐚', 'È': '𐑂',  # VEE (v as in voice)\n",
    "                                                           'õ': '𐐛', 'Í': '𐑃',  # ETH (unvoiced th as in think)\n",
    "                                                           'ú': '𐐜', 'Î': '𐑄',  # THEE (voiced th as in they)\n",
    "                                                           'ù': '𐐝', 'Ï': '𐑅',  # ES (s as in said)\n",
    "                                                           'û': '𐐞', 'Ì': '𐑆',  # ZEE (z as in zebra)\n",
    "                                                           'ü': '𐐟', 'Ó': '𐑇',  # ESH (sh as in shoot)\n",
    "                                                           '¢': '𐐠', 'Ô': '𐑈',  # ZHEE (as in measure)\n",
    "                                                           'ß': '𐐡', 'Ò': '𐑉',  # ER (r as in ride)\n",
    "                                                           '´': '𐐢', 'Ú': '𐑊',  # EL (l as in letter)\n",
    "                                                           '¨': '𐐣', 'Û': '𐑋',  # EM (m as in Macintosh)\n",
    "                                                           'Æ': '𐐤', 'Ù': '𐑌',  # EN (n as in nice)\n",
    "                                                           'Ø': '𐐥', 'ı': '𐑍',  # ENG (ng as in sing)\n",
    "                                                           })))"
   ]
  },
  {
   "cell_type": "code",
   "execution_count": 3,
   "metadata": {
    "ExecuteTime": {
     "end_time": "2020-11-12T14:59:33.411208Z",
     "start_time": "2020-11-12T14:59:32.900560Z"
    }
   },
   "outputs": [],
   "source": [
    "with open('Triple-fixed.html', 'w', encoding='utf8') as f:\n",
    "    f.write(soup.prettify())"
   ]
  },
  {
   "cell_type": "code",
   "execution_count": null,
   "metadata": {},
   "outputs": [],
   "source": []
  }
 ],
 "metadata": {
  "kernelspec": {
   "display_name": "Python 3",
   "language": "python",
   "name": "python3"
  },
  "language_info": {
   "codemirror_mode": {
    "name": "ipython",
    "version": 3
   },
   "file_extension": ".py",
   "mimetype": "text/x-python",
   "name": "python",
   "nbconvert_exporter": "python",
   "pygments_lexer": "ipython3",
   "version": "3.7.3"
  },
  "toc": {
   "base_numbering": 1,
   "nav_menu": {},
   "number_sections": true,
   "sideBar": true,
   "skip_h1_title": false,
   "title_cell": "Table of Contents",
   "title_sidebar": "Contents",
   "toc_cell": false,
   "toc_position": {},
   "toc_section_display": true,
   "toc_window_display": false
  }
 },
 "nbformat": 4,
 "nbformat_minor": 4
}
