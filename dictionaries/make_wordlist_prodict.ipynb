{
 "cells": [
  {
   "cell_type": "code",
   "execution_count": 1,
   "metadata": {
    "ExecuteTime": {
     "end_time": "2020-11-24T09:38:55.435615Z",
     "start_time": "2020-11-24T09:38:55.005025Z"
    }
   },
   "outputs": [],
   "source": [
    "from tmp import find_words\n",
    "import pandas as pd\n",
    "from pathlib import Path\n",
    "import json"
   ]
  },
  {
   "cell_type": "code",
   "execution_count": 2,
   "metadata": {
    "ExecuteTime": {
     "end_time": "2020-11-24T09:39:49.861005Z",
     "start_time": "2020-11-24T09:38:55.661121Z"
    },
    "scrolled": true
   },
   "outputs": [
    {
     "name": "stdout",
     "output_type": "stream",
     "text": [
      "prodict\\afr-eng.csv (8313, 2)\n",
      "prodict\\ara-eng.csv (134385, 2)\n",
      "prodict\\aze-eng.csv (62316, 2)\n",
      "prodict\\ben-eng.csv (187668, 2)\n",
      "prodict\\bul-eng.csv (135097, 2)\n",
      "prodict\\cat-eng.csv (9829, 2)\n",
      "prodict\\ces-eng.csv (63844, 2)\n",
      "prodict\\dan-eng.csv (14064, 2)\n",
      "prodict\\deu-eng.csv (115799, 2)\n",
      "prodict\\ell-eng.csv (62608, 2)\n",
      "prodict\\eng-afr.csv (11587, 2)\n",
      "prodict\\eng-ara.csv (208645, 2)\n",
      "prodict\\eng-aze.csv (70577, 2)\n",
      "prodict\\eng-ben.csv (205302, 2)\n",
      "prodict\\eng-bul.csv (152319, 2)\n",
      "prodict\\eng-cat.csv (13175, 2)\n",
      "prodict\\eng-ces.csv (74792, 2)\n",
      "prodict\\eng-dan.csv (19214, 2)\n",
      "prodict\\eng-deu.csv (143345, 2)\n",
      "prodict\\eng-ell.csv (70587, 2)\n",
      "prodict\\eng-epo.csv (10280, 2)\n",
      "prodict\\eng-est.csv (187568, 2)\n",
      "prodict\\eng-fas.csv (127834, 2)\n",
      "prodict\\eng-fin.csv (112920, 2)\n",
      "prodict\\eng-gle.csv (33220, 2)\n",
      "prodict\\eng-heb.csv (86844, 2)\n",
      "prodict\\eng-hin.csv (210343, 2)\n",
      "prodict\\eng-hrv.csv (84109, 2)\n",
      "prodict\\eng-hye.csv (70734, 2)\n",
      "prodict\\eng-ind.csv (133783, 2)\n",
      "prodict\\eng-ita.csv (83614, 2)\n",
      "prodict\\eng-jpn.csv (98139, 2)\n",
      "prodict\\eng-kat.csv (10341, 2)\n",
      "prodict\\eng-kor.csv (116890, 2)\n",
      "prodict\\eng-lav.csv (77779, 2)\n",
      "prodict\\eng-lit.csv (148986, 2)\n",
      "prodict\\eng-mon.csv (12650, 2)\n",
      "prodict\\eng-msa.csv (11954, 2)\n",
      "prodict\\eng-nld.csv (118651, 2)\n",
      "prodict\\eng-nor.csv (11751, 2)\n",
      "prodict\\eng-pol.csv (128064, 2)\n",
      "prodict\\eng-por.csv (130917, 2)\n",
      "prodict\\eng-ron.csv (142584, 2)\n",
      "prodict\\eng-slk.csv (133751, 2)\n",
      "prodict\\eng-slv.csv (13469, 2)\n",
      "prodict\\eng-spa.csv (202076, 2)\n",
      "prodict\\eng-sqi.csv (102988, 2)\n",
      "prodict\\eng-srp.csv (75550, 2)\n",
      "prodict\\eng-swa.csv (12246, 2)\n",
      "prodict\\eng-swe.csv (108579, 2)\n",
      "prodict\\eng-tam.csv (28441, 2)\n",
      "prodict\\eng-tgl.csv (162345, 2)\n",
      "prodict\\eng-tha.csv (149939, 2)\n",
      "prodict\\eng-tur.csv (180810, 2)\n",
      "prodict\\eng-ukr.csv (265966, 2)\n",
      "prodict\\eng-vie.csv (184883, 2)\n",
      "prodict\\eng-zho.csv (110429, 2)\n",
      "prodict\\eng-zul.csv (22474, 2)\n",
      "prodict\\epo-eng.csv (9017, 2)\n",
      "prodict\\est-eng.csv (105126, 2)\n",
      "prodict\\fas-eng.csv (113586, 2)\n",
      "prodict\\fin-eng.csv (98204, 2)\n",
      "prodict\\gle-eng.csv (21329, 2)\n",
      "prodict\\heb-eng.csv (77784, 2)\n",
      "prodict\\hin-eng.csv (199648, 2)\n",
      "prodict\\hrv-eng.csv (75091, 2)\n",
      "prodict\\hye-eng.csv (61667, 2)\n",
      "prodict\\ind-eng.csv (118563, 2)\n",
      "prodict\\ita-eng.csv (70820, 2)\n",
      "prodict\\jpn-eng.csv (84685, 2)\n",
      "prodict\\kat-eng.csv (7227, 2)\n",
      "prodict\\kor-eng.csv (99486, 2)\n",
      "prodict\\lav-eng.csv (65859, 2)\n",
      "prodict\\lit-eng.csv (128628, 2)\n",
      "prodict\\mon-eng.csv (8931, 2)\n",
      "prodict\\msa-eng.csv (8564, 2)\n",
      "prodict\\nld-eng.csv (104473, 2)\n",
      "prodict\\nor-eng.csv (8877, 2)\n",
      "prodict\\pol-eng.csv (111416, 2)\n",
      "prodict\\por-eng.csv (117073, 2)\n",
      "prodict\\ron-eng.csv (122276, 2)\n",
      "prodict\\slk-eng.csv (114659, 2)\n",
      "prodict\\slv-eng.csv (10208, 2)\n",
      "prodict\\spa-eng.csv (118162, 2)\n",
      "prodict\\sqi-eng.csv (90447, 2)\n",
      "prodict\\srp-eng.csv (67146, 2)\n",
      "prodict\\swa-eng.csv (9062, 2)\n",
      "prodict\\swe-eng.csv (93503, 2)\n",
      "prodict\\tam-eng.csv (25098, 2)\n",
      "prodict\\tgl-eng.csv (118691, 2)\n",
      "prodict\\tha-eng.csv (130051, 2)\n",
      "prodict\\tur-eng.csv (164411, 2)\n",
      "prodict\\ukr-eng.csv (151961, 2)\n",
      "prodict\\vie-eng.csv (102717, 2)\n",
      "prodict\\zho-eng.csv (92177, 2)\n",
      "prodict\\zul-eng.csv (16852, 2)\n"
     ]
    },
    {
     "data": {
      "text/plain": [
       "1242655"
      ]
     },
     "execution_count": 2,
     "metadata": {},
     "output_type": "execute_result"
    }
   ],
   "source": [
    "word_langs = dict()\n",
    "for path in Path('prodict').glob('*.csv'):\n",
    "    lang, lang2 = path.stem.split('-')\n",
    "    if lang == 'eng':\n",
    "        assert lang2 != 'eng'\n",
    "        lang2, lang = lang, lang2\n",
    "\n",
    "    df = pd.read_csv(path, encoding='utf8')\n",
    "    print(path, df.shape)\n",
    "    for word in find_words(' '.join(df['Other'].dropna().tolist())):\n",
    "        word_langs.setdefault(word.casefold(), set()).add(lang)\n",
    "    for word in find_words(' '.join(df['English'].dropna().tolist())):\n",
    "        word_langs.setdefault(word.casefold(), set()).add('eng')\n",
    "len(word_langs)"
   ]
  },
  {
   "cell_type": "code",
   "execution_count": 3,
   "metadata": {
    "ExecuteTime": {
     "end_time": "2020-11-24T09:39:57.370819Z",
     "start_time": "2020-11-24T09:39:57.031938Z"
    }
   },
   "outputs": [
    {
     "data": {
      "text/plain": [
       "1174010"
      ]
     },
     "execution_count": 3,
     "metadata": {},
     "output_type": "execute_result"
    }
   ],
   "source": [
    "uniq_words = set(word for word, langs in word_langs.items() if len(langs) == 1)\n",
    "len(uniq_words)"
   ]
  },
  {
   "cell_type": "code",
   "execution_count": 4,
   "metadata": {
    "ExecuteTime": {
     "end_time": "2020-11-24T09:40:00.305804Z",
     "start_time": "2020-11-24T09:39:59.103947Z"
    }
   },
   "outputs": [
    {
     "data": {
      "text/plain": [
       "49"
      ]
     },
     "execution_count": 4,
     "metadata": {},
     "output_type": "execute_result"
    }
   ],
   "source": [
    "lang_words = dict()\n",
    "for word in uniq_words:\n",
    "    for lang in word_langs[word]:\n",
    "        lang_words.setdefault(lang, set()).add(word)\n",
    "len(lang_words)"
   ]
  },
  {
   "cell_type": "code",
   "execution_count": 5,
   "metadata": {
    "ExecuteTime": {
     "end_time": "2020-11-24T09:40:03.824288Z",
     "start_time": "2020-11-24T09:40:01.998093Z"
    }
   },
   "outputs": [
    {
     "name": "stdout",
     "output_type": "stream",
     "text": [
      "deu\n",
      "lav\n",
      "pol\n",
      "ara\n",
      "hin\n",
      "tha\n",
      "tur\n",
      "fin\n",
      "jpn\n",
      "tgl\n",
      "nld\n",
      "slk\n",
      "swe\n",
      "bul\n",
      "kor\n",
      "ben\n",
      "sqi\n",
      "ukr\n",
      "eng\n",
      "fas\n",
      "lit\n",
      "hye\n",
      "ind\n",
      "heb\n",
      "vie\n",
      "ces\n",
      "spa\n",
      "est\n",
      "aze\n",
      "srp\n",
      "zho\n",
      "tam\n",
      "slv\n",
      "epo\n",
      "hrv\n",
      "gle\n",
      "ron\n",
      "ita\n",
      "kat\n",
      "ell\n",
      "zul\n",
      "swa\n",
      "mon\n",
      "por\n",
      "afr\n",
      "cat\n",
      "nor\n",
      "msa\n",
      "dan\n"
     ]
    }
   ],
   "source": [
    "for lang, words in lang_words.items():\n",
    "    print(lang)\n",
    "    with open(f'prodict/_{lang}.txt', 'w', encoding='utf8') as f:\n",
    "        for word in sorted(words):\n",
    "            f.write(word + '\\n')"
   ]
  },
  {
   "cell_type": "code",
   "execution_count": null,
   "metadata": {},
   "outputs": [],
   "source": []
  }
 ],
 "metadata": {
  "kernelspec": {
   "display_name": "Python 3",
   "language": "python",
   "name": "python3"
  },
  "language_info": {
   "codemirror_mode": {
    "name": "ipython",
    "version": 3
   },
   "file_extension": ".py",
   "mimetype": "text/x-python",
   "name": "python",
   "nbconvert_exporter": "python",
   "pygments_lexer": "ipython3",
   "version": "3.7.3"
  },
  "toc": {
   "base_numbering": 1,
   "nav_menu": {},
   "number_sections": true,
   "sideBar": true,
   "skip_h1_title": false,
   "title_cell": "Table of Contents",
   "title_sidebar": "Contents",
   "toc_cell": false,
   "toc_position": {},
   "toc_section_display": true,
   "toc_window_display": false
  }
 },
 "nbformat": 4,
 "nbformat_minor": 4
}
