{
 "cells": [
  {
   "cell_type": "code",
   "execution_count": 1,
   "metadata": {
    "ExecuteTime": {
     "end_time": "2020-11-24T09:42:59.550878Z",
     "start_time": "2020-11-24T09:42:59.127129Z"
    }
   },
   "outputs": [],
   "source": [
    "from tmp import find_words\n",
    "import pandas as pd\n",
    "from pathlib import Path\n",
    "import json"
   ]
  },
  {
   "cell_type": "code",
   "execution_count": 2,
   "metadata": {
    "ExecuteTime": {
     "end_time": "2020-11-24T09:43:06.513811Z",
     "start_time": "2020-11-24T09:42:59.739491Z"
    },
    "scrolled": true
   },
   "outputs": [
    {
     "name": "stdout",
     "output_type": "stream",
     "text": [
      "memolon\\afr.json 11603\n",
      "memolon\\amh.json 12996\n",
      "memolon\\ara.json 13716\n",
      "memolon\\aze.json 12402\n",
      "memolon\\bel.json 13716\n",
      "memolon\\ben.json 13191\n",
      "memolon\\bos.json 12085\n",
      "memolon\\bul.json 13604\n",
      "memolon\\cat.json 12056\n",
      "memolon\\ceb.json 9912\n",
      "memolon\\ces.json 12693\n",
      "memolon\\cos.json 11157\n",
      "memolon\\cym.json 10903\n",
      "memolon\\dan.json 11198\n",
      "memolon\\deu.json 11952\n",
      "memolon\\ell.json 13249\n",
      "memolon\\epo.json 12683\n",
      "memolon\\est.json 12711\n",
      "memolon\\eus.json 9186\n",
      "memolon\\fas.json 13736\n",
      "memolon\\fin.json 12948\n",
      "memolon\\fra.json 11829\n",
      "memolon\\fry.json 9843\n",
      "memolon\\gla.json 9047\n",
      "memolon\\gle.json 10130\n",
      "memolon\\glg.json 12230\n",
      "memolon\\guj.json 13504\n",
      "memolon\\hat.json 11764\n",
      "memolon\\heb.json 13621\n",
      "memolon\\hin.json 13361\n",
      "memolon\\hrv.json 12960\n",
      "memolon\\hun.json 13116\n",
      "memolon\\hye.json 13614\n",
      "memolon\\ind.json 12638\n",
      "memolon\\isl.json 12301\n",
      "memolon\\ita.json 12564\n",
      "memolon\\jav.json 10890\n",
      "memolon\\jpn.json 13764\n",
      "memolon\\kan.json 13682\n",
      "memolon\\kat.json 13343\n",
      "memolon\\kaz.json 13698\n",
      "memolon\\khm.json 11609\n",
      "memolon\\kir.json 12736\n",
      "memolon\\kor.json 13735\n",
      "memolon\\kur.json 10962\n",
      "memolon\\lat.json 10015\n",
      "memolon\\lav.json 12925\n",
      "memolon\\lit.json 13185\n",
      "memolon\\ltz.json 9924\n",
      "memolon\\mal.json 13414\n",
      "memolon\\mar.json 13589\n",
      "memolon\\mkd.json 13697\n",
      "memolon\\mlg.json 9351\n",
      "memolon\\mlt.json 10755\n",
      "memolon\\mon.json 13444\n",
      "memolon\\msa.json 10958\n",
      "memolon\\mya.json 12865\n",
      "memolon\\nep.json 12951\n",
      "memolon\\nld.json 11718\n",
      "memolon\\nor.json 11058\n",
      "memolon\\pan.json 13343\n",
      "memolon\\pol.json 13052\n",
      "memolon\\por.json 12649\n",
      "memolon\\pus.json 13489\n",
      "memolon\\ron.json 11992\n",
      "memolon\\rus.json 13663\n",
      "memolon\\sin.json 12961\n",
      "memolon\\slk.json 12743\n",
      "memolon\\slv.json 12524\n",
      "memolon\\snd.json 13521\n",
      "memolon\\som.json 11468\n",
      "memolon\\spa.json 12907\n",
      "memolon\\sqi.json 12179\n",
      "memolon\\srp.json 13791\n",
      "memolon\\sun.json 10653\n",
      "memolon\\swa.json 10518\n",
      "memolon\\swe.json 11823\n",
      "memolon\\tam.json 13256\n",
      "memolon\\tel.json 12869\n",
      "memolon\\tgk.json 13044\n",
      "memolon\\tgl.json 9549\n",
      "memolon\\tha.json 13447\n",
      "memolon\\tur.json 13169\n",
      "memolon\\ukr.json 13717\n",
      "memolon\\urd.json 13181\n",
      "memolon\\uzb.json 12596\n",
      "memolon\\vie.json 13157\n",
      "memolon\\yid.json 10773\n",
      "memolon\\yor.json 11454\n",
      "memolon\\zho.json 13770\n"
     ]
    },
    {
     "data": {
      "text/plain": [
       "686913"
      ]
     },
     "execution_count": 2,
     "metadata": {},
     "output_type": "execute_result"
    }
   ],
   "source": [
    "word_langs = dict()\n",
    "for path in Path('memolon').glob('*.json'):\n",
    "    lang = path.stem\n",
    "\n",
    "    with path.open(encoding='utf8') as f:\n",
    "        data = json.load(f)\n",
    "        \n",
    "    print(path, len(data))\n",
    "    for word in find_words(' '.join(data.values())):\n",
    "        word_langs.setdefault(word.casefold(), set()).add(lang)\n",
    "    for word in find_words(' '.join(data.keys())):\n",
    "        word_langs.setdefault(word.casefold(), set()).add('eng')\n",
    "len(word_langs)"
   ]
  },
  {
   "cell_type": "code",
   "execution_count": 3,
   "metadata": {
    "ExecuteTime": {
     "end_time": "2020-11-24T09:43:10.112238Z",
     "start_time": "2020-11-24T09:43:09.917377Z"
    }
   },
   "outputs": [
    {
     "data": {
      "text/plain": [
       "619034"
      ]
     },
     "execution_count": 3,
     "metadata": {},
     "output_type": "execute_result"
    }
   ],
   "source": [
    "uniq_words = set(word for word, langs in word_langs.items() if len(langs) == 1)\n",
    "len(uniq_words)"
   ]
  },
  {
   "cell_type": "code",
   "execution_count": 4,
   "metadata": {
    "ExecuteTime": {
     "end_time": "2020-11-24T09:43:13.956026Z",
     "start_time": "2020-11-24T09:43:13.322517Z"
    }
   },
   "outputs": [
    {
     "data": {
      "text/plain": [
       "91"
      ]
     },
     "execution_count": 4,
     "metadata": {},
     "output_type": "execute_result"
    }
   ],
   "source": [
    "lang_words = dict()\n",
    "for word in uniq_words:\n",
    "    for lang in word_langs[word]:\n",
    "        lang_words.setdefault(lang, set()).add(word)\n",
    "len(lang_words)"
   ]
  },
  {
   "cell_type": "code",
   "execution_count": 5,
   "metadata": {
    "ExecuteTime": {
     "end_time": "2020-11-24T09:43:24.997293Z",
     "start_time": "2020-11-24T09:43:24.132959Z"
    }
   },
   "outputs": [
    {
     "name": "stdout",
     "output_type": "stream",
     "text": [
      "swe\n",
      "epo\n",
      "srp\n",
      "kan\n",
      "pus\n",
      "yid\n",
      "afr\n",
      "slk\n",
      "hun\n",
      "yor\n",
      "isl\n",
      "eus\n",
      "spa\n",
      "kir\n",
      "kor\n",
      "tam\n",
      "jpn\n",
      "lav\n",
      "fra\n",
      "fin\n",
      "pan\n",
      "est\n",
      "mlt\n",
      "zho\n",
      "hin\n",
      "bel\n",
      "mkd\n",
      "sqi\n",
      "rus\n",
      "tha\n",
      "ben\n",
      "ukr\n",
      "lat\n",
      "fas\n",
      "mon\n",
      "sin\n",
      "eng\n",
      "hye\n",
      "tur\n",
      "nld\n",
      "slv\n",
      "heb\n",
      "ara\n",
      "jav\n",
      "aze\n",
      "cym\n",
      "nor\n",
      "gla\n",
      "khm\n",
      "urd\n",
      "cat\n",
      "ces\n",
      "cos\n",
      "guj\n",
      "mar\n",
      "ita\n",
      "amh\n",
      "ell\n",
      "sun\n",
      "ron\n",
      "hat\n",
      "mal\n",
      "som\n",
      "tel\n",
      "dan\n",
      "ltz\n",
      "nep\n",
      "kat\n",
      "bos\n",
      "por\n",
      "glg\n",
      "snd\n",
      "tgk\n",
      "kur\n",
      "gle\n",
      "ind\n",
      "uzb\n",
      "msa\n",
      "pol\n",
      "fry\n",
      "tgl\n",
      "bul\n",
      "hrv\n",
      "kaz\n",
      "mya\n",
      "lit\n",
      "mlg\n",
      "ceb\n",
      "vie\n",
      "deu\n",
      "swa\n"
     ]
    }
   ],
   "source": [
    "for lang, words in lang_words.items():\n",
    "    print(lang)\n",
    "    with open(f'memolon/_{lang}.txt', 'w', encoding='utf8') as f:\n",
    "        for word in sorted(words):\n",
    "            f.write(word + '\\n')"
   ]
  },
  {
   "cell_type": "code",
   "execution_count": null,
   "metadata": {},
   "outputs": [],
   "source": []
  }
 ],
 "metadata": {
  "kernelspec": {
   "display_name": "Python 3",
   "language": "python",
   "name": "python3"
  },
  "language_info": {
   "codemirror_mode": {
    "name": "ipython",
    "version": 3
   },
   "file_extension": ".py",
   "mimetype": "text/x-python",
   "name": "python",
   "nbconvert_exporter": "python",
   "pygments_lexer": "ipython3",
   "version": "3.7.3"
  },
  "toc": {
   "base_numbering": 1,
   "nav_menu": {},
   "number_sections": true,
   "sideBar": true,
   "skip_h1_title": false,
   "title_cell": "Table of Contents",
   "title_sidebar": "Contents",
   "toc_cell": false,
   "toc_position": {},
   "toc_section_display": true,
   "toc_window_display": false
  }
 },
 "nbformat": 4,
 "nbformat_minor": 4
}
