{
 "cells": [
  {
   "cell_type": "code",
   "execution_count": 1,
   "metadata": {
    "ExecuteTime": {
     "end_time": "2020-11-24T09:47:47.969629Z",
     "start_time": "2020-11-24T09:47:47.539793Z"
    }
   },
   "outputs": [],
   "source": [
    "from tmp import find_words\n",
    "import pandas as pd\n",
    "from pathlib import Path\n",
    "import json"
   ]
  },
  {
   "cell_type": "code",
   "execution_count": 2,
   "metadata": {
    "ExecuteTime": {
     "end_time": "2020-11-24T09:49:26.599679Z",
     "start_time": "2020-11-24T09:47:47.971400Z"
    },
    "scrolled": true
   },
   "outputs": [
    {
     "name": "stdout",
     "output_type": "stream",
     "text": [
      "mantuboro\\ara-eng.csv (67011, 2)\n",
      "mantuboro\\aze-eng.csv (38275, 2)\n",
      "mantuboro\\ben-eng.csv (27307, 2)\n",
      "mantuboro\\bul-eng.csv (42112, 2)\n",
      "mantuboro\\deu-eng.csv (164638, 2)\n",
      "mantuboro\\ell-eng.csv (52049, 2)\n",
      "mantuboro\\eng-ara.csv (51362, 2)\n",
      "mantuboro\\eng-aze.csv (38275, 2)\n",
      "mantuboro\\eng-ben.csv (25591, 2)\n",
      "mantuboro\\eng-bul.csv (45597, 2)\n",
      "mantuboro\\eng-deu.csv (148766, 2)\n",
      "mantuboro\\eng-ell.csv (50441, 2)\n",
      "mantuboro\\eng-eng.csv (147472, 2)\n",
      "mantuboro\\eng-est.csv (57194, 2)\n",
      "mantuboro\\eng-fas.csv (156190, 2)\n",
      "mantuboro\\eng-fil.csv (31971, 2)\n",
      "mantuboro\\eng-fin.csv (44872, 2)\n",
      "mantuboro\\eng-fra.csv (141904, 2)\n",
      "mantuboro\\eng-heb.csv (139979, 2)\n",
      "mantuboro\\eng-hin.csv (49145, 2)\n",
      "mantuboro\\eng-hrv.csv (58411, 2)\n",
      "mantuboro\\eng-hun.csv (185118, 2)\n",
      "mantuboro\\eng-ind.csv (39757, 2)\n",
      "mantuboro\\eng-ita.csv (142077, 2)\n",
      "mantuboro\\eng-kor.csv (63750, 2)\n",
      "mantuboro\\eng-lat.csv (55533, 2)\n",
      "mantuboro\\eng-lav.csv (56136, 2)\n",
      "mantuboro\\eng-lit.csv (58931, 2)\n",
      "mantuboro\\eng-lus.csv (19960, 2)\n",
      "mantuboro\\eng-mar.csv (50402, 2)\n",
      "mantuboro\\eng-mon.csv (27187, 2)\n",
      "mantuboro\\eng-msa.csv (22198, 2)\n",
      "mantuboro\\eng-mya.csv (33783, 2)\n",
      "mantuboro\\eng-nep.csv (141274, 2)\n",
      "mantuboro\\eng-nld.csv (181648, 2)\n",
      "mantuboro\\eng-nor.csv (13215, 2)\n",
      "mantuboro\\eng-pan.csv (37284, 2)\n",
      "mantuboro\\eng-pol.csv (23583, 2)\n",
      "mantuboro\\eng-por.csv (144759, 2)\n",
      "mantuboro\\eng-pus.csv (29263, 2)\n",
      "mantuboro\\eng-ron.csv (30426, 2)\n",
      "mantuboro\\eng-rus.csv (31724, 2)\n",
      "mantuboro\\eng-slk.csv (133694, 2)\n",
      "mantuboro\\eng-spa.csv (134697, 2)\n",
      "mantuboro\\eng-sqi.csv (30115, 2)\n",
      "mantuboro\\eng-srp.csv (36815, 2)\n",
      "mantuboro\\eng-swe.csv (120839, 2)\n",
      "mantuboro\\eng-tel.csv (41979, 2)\n",
      "mantuboro\\eng-tur.csv (160293, 2)\n",
      "mantuboro\\eng-ukr.csv (62889, 2)\n",
      "mantuboro\\eng-urd.csv (92213, 2)\n",
      "mantuboro\\eng-zho.csv (62006, 2)\n",
      "mantuboro\\est-eng.csv (57194, 2)\n",
      "mantuboro\\fas-eng.csv (91566, 2)\n",
      "mantuboro\\fil-eng.csv (31971, 2)\n",
      "mantuboro\\fin-eng.csv (44872, 2)\n",
      "mantuboro\\fra-eng.csv (84165, 2)\n",
      "mantuboro\\heb-eng.csv (57458, 2)\n",
      "mantuboro\\hin-eng.csv (49145, 2)\n",
      "mantuboro\\hrv-eng.csv (79491, 2)\n",
      "mantuboro\\hun-eng.csv (131568, 2)\n",
      "mantuboro\\ind-eng.csv (16624, 2)\n",
      "mantuboro\\ita-eng.csv (74054, 2)\n",
      "mantuboro\\kor-eng.csv (92756, 2)\n",
      "mantuboro\\lat-eng.csv (55533, 2)\n",
      "mantuboro\\lav-eng.csv (56136, 2)\n",
      "mantuboro\\lit-eng.csv (58931, 2)\n",
      "mantuboro\\lus-eng.csv (7008, 2)\n",
      "mantuboro\\mar-eng.csv (50402, 2)\n",
      "mantuboro\\mon-eng.csv (33724, 2)\n",
      "mantuboro\\msa-eng.csv (18161, 2)\n",
      "mantuboro\\mya-eng.csv (59117, 2)\n",
      "mantuboro\\nep-eng.csv (141274, 2)\n",
      "mantuboro\\nld-eng.csv (155913, 2)\n",
      "mantuboro\\nor-eng.csv (14290, 2)\n",
      "mantuboro\\pan-eng.csv (37282, 2)\n",
      "mantuboro\\pol-eng.csv (22153, 2)\n",
      "mantuboro\\por-eng.csv (57825, 2)\n",
      "mantuboro\\pus-eng.csv (42727, 2)\n",
      "mantuboro\\ron-eng.csv (100438, 2)\n",
      "mantuboro\\rus-eng.csv (22719, 2)\n",
      "mantuboro\\slk-eng.csv (102590, 2)\n",
      "mantuboro\\spa-eng.csv (83818, 2)\n",
      "mantuboro\\sqi-eng.csv (27231, 2)\n",
      "mantuboro\\srp-eng.csv (32405, 2)\n",
      "mantuboro\\swe-eng.csv (46939, 2)\n",
      "mantuboro\\tel-eng.csv (35752, 2)\n",
      "mantuboro\\tur-eng.csv (94107, 2)\n",
      "mantuboro\\ukr-eng.csv (62889, 2)\n",
      "mantuboro\\urd-eng.csv (24746, 2)\n",
      "mantuboro\\zho-eng.csv (48618, 2)\n"
     ]
    },
    {
     "data": {
      "text/plain": [
       "2819199"
      ]
     },
     "execution_count": 2,
     "metadata": {},
     "output_type": "execute_result"
    }
   ],
   "source": [
    "word_langs = dict()\n",
    "for path in Path('mantuboro').glob('*.csv'):\n",
    "    lang, lang2 = path.stem.split('-')\n",
    "\n",
    "    df = pd.read_csv(path, encoding='utf8')\n",
    "    print(path, df.shape)\n",
    "    for word in find_words(' '.join(df['Word'].dropna().tolist())):\n",
    "        word_langs.setdefault(word.casefold(), set()).add(lang)\n",
    "        \n",
    "    for word in find_words(' '.join(df['Meaning'].dropna().tolist())):\n",
    "        word_langs.setdefault(word.casefold(), set()).add(lang2)\n",
    "len(word_langs)"
   ]
  },
  {
   "cell_type": "code",
   "execution_count": 3,
   "metadata": {
    "ExecuteTime": {
     "end_time": "2020-11-24T09:50:04.054792Z",
     "start_time": "2020-11-24T09:50:03.401496Z"
    }
   },
   "outputs": [
    {
     "data": {
      "text/plain": [
       "2343466"
      ]
     },
     "execution_count": 3,
     "metadata": {},
     "output_type": "execute_result"
    }
   ],
   "source": [
    "uniq_words = set(word for word, langs in word_langs.items() if len(langs) == 1)\n",
    "len(uniq_words)"
   ]
  },
  {
   "cell_type": "code",
   "execution_count": 4,
   "metadata": {
    "ExecuteTime": {
     "end_time": "2020-11-24T09:50:08.916700Z",
     "start_time": "2020-11-24T09:50:06.386468Z"
    }
   },
   "outputs": [
    {
     "data": {
      "text/plain": [
       "46"
      ]
     },
     "execution_count": 4,
     "metadata": {},
     "output_type": "execute_result"
    }
   ],
   "source": [
    "lang_words = dict()\n",
    "for word in uniq_words:\n",
    "    for lang in word_langs[word]:\n",
    "        lang_words.setdefault(lang, set()).add(word)\n",
    "len(lang_words)"
   ]
  },
  {
   "cell_type": "code",
   "execution_count": 5,
   "metadata": {
    "ExecuteTime": {
     "end_time": "2020-11-24T09:50:18.020207Z",
     "start_time": "2020-11-24T09:50:13.835399Z"
    }
   },
   "outputs": [
    {
     "name": "stdout",
     "output_type": "stream",
     "text": [
      "fin\n",
      "est\n",
      "ara\n",
      "heb\n",
      "bul\n",
      "pan\n",
      "ind\n",
      "lat\n",
      "mon\n",
      "tel\n",
      "nor\n",
      "hun\n",
      "eng\n",
      "swe\n",
      "nep\n",
      "tur\n",
      "mya\n",
      "urd\n",
      "zho\n",
      "fil\n",
      "ell\n",
      "deu\n",
      "ben\n",
      "rus\n",
      "spa\n",
      "slk\n",
      "kor\n",
      "lit\n",
      "fas\n",
      "fra\n",
      "nld\n",
      "mar\n",
      "lus\n",
      "pus\n",
      "por\n",
      "sqi\n",
      "ukr\n",
      "ron\n",
      "pol\n",
      "ita\n",
      "lav\n",
      "hrv\n",
      "aze\n",
      "hin\n",
      "msa\n",
      "srp\n"
     ]
    }
   ],
   "source": [
    "for lang, words in lang_words.items():\n",
    "    print(lang)\n",
    "    with open(f'mantuboro/_{lang}.txt', 'w', encoding='utf8') as f:\n",
    "        for word in sorted(words):\n",
    "            f.write(word + '\\n')"
   ]
  },
  {
   "cell_type": "code",
   "execution_count": null,
   "metadata": {},
   "outputs": [],
   "source": []
  }
 ],
 "metadata": {
  "kernelspec": {
   "display_name": "Python 3",
   "language": "python",
   "name": "python3"
  },
  "language_info": {
   "codemirror_mode": {
    "name": "ipython",
    "version": 3
   },
   "file_extension": ".py",
   "mimetype": "text/x-python",
   "name": "python",
   "nbconvert_exporter": "python",
   "pygments_lexer": "ipython3",
   "version": "3.7.3"
  },
  "toc": {
   "base_numbering": 1,
   "nav_menu": {},
   "number_sections": true,
   "sideBar": true,
   "skip_h1_title": false,
   "title_cell": "Table of Contents",
   "title_sidebar": "Contents",
   "toc_cell": false,
   "toc_position": {},
   "toc_section_display": true,
   "toc_window_display": false
  }
 },
 "nbformat": 4,
 "nbformat_minor": 4
}
