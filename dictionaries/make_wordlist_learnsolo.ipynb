{
 "cells": [
  {
   "cell_type": "code",
   "execution_count": 2,
   "metadata": {
    "ExecuteTime": {
     "end_time": "2020-11-24T09:11:07.971269Z",
     "start_time": "2020-11-24T09:11:07.542056Z"
    }
   },
   "outputs": [],
   "source": [
    "from tmp import find_words\n",
    "import pandas as pd\n",
    "from pathlib import Path\n",
    "import json"
   ]
  },
  {
   "cell_type": "code",
   "execution_count": 15,
   "metadata": {
    "ExecuteTime": {
     "end_time": "2020-11-24T09:26:13.253439Z",
     "start_time": "2020-11-24T09:25:32.072413Z"
    },
    "scrolled": true
   },
   "outputs": [
    {
     "name": "stdout",
     "output_type": "stream",
     "text": [
      "learnsolo\\afr.csv (79114, 2)\n",
      "learnsolo\\ara.csv (186988, 2)\n",
      "learnsolo\\aze.csv (60176, 2)\n",
      "learnsolo\\ben.csv (111212, 2)\n",
      "learnsolo\\bos.csv (92376, 2)\n",
      "learnsolo\\bul.csv (62264, 2)\n",
      "learnsolo\\cat.csv (58372, 2)\n",
      "learnsolo\\ceb.csv (31358, 2)\n",
      "learnsolo\\ces.csv (53197, 2)\n",
      "learnsolo\\cym.csv (39440, 2)\n",
      "learnsolo\\dan.csv (46788, 2)\n",
      "learnsolo\\deu.csv (101651, 2)\n",
      "learnsolo\\ell.csv (123354, 2)\n",
      "learnsolo\\epo.csv (43731, 2)\n",
      "learnsolo\\est.csv (49284, 2)\n",
      "learnsolo\\fas.csv (88119, 2)\n",
      "learnsolo\\fin.csv (49492, 2)\n",
      "learnsolo\\fra.csv (105811, 2)\n",
      "learnsolo\\gle.csv (26423, 2)\n",
      "learnsolo\\glg.csv (50265, 2)\n",
      "learnsolo\\guj.csv (73214, 2)\n",
      "learnsolo\\hat.csv (70890, 2)\n",
      "learnsolo\\hau.csv (43850, 2)\n",
      "learnsolo\\heb.csv (65283, 2)\n",
      "learnsolo\\hin.csv (132054, 2)\n",
      "learnsolo\\hmn.csv (18205, 2)\n",
      "learnsolo\\hun.csv (54248, 2)\n",
      "learnsolo\\hye.csv (62872, 2)\n",
      "learnsolo\\ibo.csv (27860, 2)\n",
      "learnsolo\\ind.csv (69712, 2)\n",
      "learnsolo\\isl.csv (33012, 2)\n",
      "learnsolo\\ita.csv (98376, 2)\n",
      "learnsolo\\jav.csv (15979, 2)\n",
      "learnsolo\\jpn.csv (66027, 2)\n",
      "learnsolo\\kan.csv (94490, 2)\n",
      "learnsolo\\kat.csv (41561, 2)\n",
      "learnsolo\\lao.csv (73578, 2)\n",
      "learnsolo\\lat.csv (32343, 2)\n",
      "learnsolo\\lit.csv (53212, 2)\n",
      "learnsolo\\mal.csv (59058, 2)\n",
      "learnsolo\\mar.csv (61943, 2)\n",
      "learnsolo\\mkd.csv (54266, 2)\n",
      "learnsolo\\mlg.csv (27393, 2)\n",
      "learnsolo\\mlt.csv (29684, 2)\n",
      "learnsolo\\mon.csv (39194, 2)\n",
      "learnsolo\\mri.csv (35602, 2)\n",
      "learnsolo\\msa.csv (58054, 2)\n",
      "learnsolo\\mya.csv (63939, 2)\n",
      "learnsolo\\nep.csv (47829, 2)\n",
      "learnsolo\\nld.csv (50804, 2)\n",
      "learnsolo\\nya.csv (33966, 2)\n",
      "learnsolo\\ori.csv (28233, 2)\n",
      "learnsolo\\pol.csv (54470, 2)\n",
      "learnsolo\\por.csv (109627, 2)\n",
      "learnsolo\\ron.csv (50750, 2)\n",
      "learnsolo\\rus.csv (137701, 2)\n",
      "learnsolo\\sin.csv (42013, 2)\n",
      "learnsolo\\slk.csv (102062, 2)\n",
      "learnsolo\\slv.csv (44553, 2)\n",
      "learnsolo\\som.csv (73739, 2)\n",
      "learnsolo\\spa.csv (112565, 2)\n",
      "learnsolo\\sqi.csv (75903, 2)\n",
      "learnsolo\\srp.csv (91946, 2)\n",
      "learnsolo\\sun.csv (16140, 2)\n",
      "learnsolo\\swa.csv (109231, 2)\n",
      "learnsolo\\swe.csv (46925, 2)\n",
      "learnsolo\\tel.csv (81967, 2)\n",
      "learnsolo\\tgk.csv (29559, 2)\n",
      "learnsolo\\tgl.csv (112898, 2)\n",
      "learnsolo\\ukr.csv (71982, 2)\n",
      "learnsolo\\urd.csv (78425, 2)\n",
      "learnsolo\\uzb.csv (14997, 2)\n",
      "learnsolo\\vie.csv (47828, 2)\n",
      "learnsolo\\yid.csv (89089, 2)\n",
      "learnsolo\\yor.csv (54573, 2)\n",
      "learnsolo\\zho.csv (116936, 2)\n",
      "learnsolo\\zul.csv (65925, 2)\n"
     ]
    },
    {
     "data": {
      "text/plain": [
       "2804477"
      ]
     },
     "execution_count": 15,
     "metadata": {},
     "output_type": "execute_result"
    }
   ],
   "source": [
    "word_langs = dict()\n",
    "for path in Path('learnsolo').glob('*.csv'):\n",
    "    lang = path.stem\n",
    "    df = pd.read_csv(path, encoding='utf8')\n",
    "    print(path, df.shape)\n",
    "    for word in find_words(' '.join(df['Other'].dropna().tolist())):\n",
    "        word_langs.setdefault(word.casefold(), set()).add(lang)\n",
    "    for word in find_words(' '.join(df['English'].dropna().tolist())):\n",
    "        word_langs.setdefault(word.casefold(), set()).add('eng')\n",
    "len(word_langs)"
   ]
  },
  {
   "cell_type": "code",
   "execution_count": 16,
   "metadata": {
    "ExecuteTime": {
     "end_time": "2020-11-24T09:27:08.928488Z",
     "start_time": "2020-11-24T09:27:08.041915Z"
    }
   },
   "outputs": [
    {
     "data": {
      "text/plain": [
       "2536672"
      ]
     },
     "execution_count": 16,
     "metadata": {},
     "output_type": "execute_result"
    }
   ],
   "source": [
    "uniq_words = set(word for word, langs in word_langs.items() if len(langs) == 1)\n",
    "len(uniq_words)"
   ]
  },
  {
   "cell_type": "code",
   "execution_count": 17,
   "metadata": {
    "ExecuteTime": {
     "end_time": "2020-11-24T09:29:15.345724Z",
     "start_time": "2020-11-24T09:29:12.514471Z"
    }
   },
   "outputs": [
    {
     "data": {
      "text/plain": [
       "78"
      ]
     },
     "execution_count": 17,
     "metadata": {},
     "output_type": "execute_result"
    }
   ],
   "source": [
    "lang_words = dict()\n",
    "for word in uniq_words:\n",
    "    for lang in word_langs[word]:\n",
    "        lang_words.setdefault(lang, set()).add(word)\n",
    "len(lang_words)"
   ]
  },
  {
   "cell_type": "code",
   "execution_count": 19,
   "metadata": {
    "ExecuteTime": {
     "end_time": "2020-11-24T09:31:37.919702Z",
     "start_time": "2020-11-24T09:31:32.303961Z"
    }
   },
   "outputs": [],
   "source": [
    "for lang, words in lang_words.items():\n",
    "    print(lang)\n",
    "    with open(f'learnsolo/_{lang}.txt', 'w', encoding='utf8') as f:\n",
    "        for word in sorted(words):\n",
    "            f.write(word + '\\n')"
   ]
  },
  {
   "cell_type": "code",
   "execution_count": null,
   "metadata": {},
   "outputs": [],
   "source": []
  }
 ],
 "metadata": {
  "kernelspec": {
   "display_name": "Python 3",
   "language": "python",
   "name": "python3"
  },
  "language_info": {
   "codemirror_mode": {
    "name": "ipython",
    "version": 3
   },
   "file_extension": ".py",
   "mimetype": "text/x-python",
   "name": "python",
   "nbconvert_exporter": "python",
   "pygments_lexer": "ipython3",
   "version": "3.7.3"
  },
  "toc": {
   "base_numbering": 1,
   "nav_menu": {},
   "number_sections": true,
   "sideBar": true,
   "skip_h1_title": false,
   "title_cell": "Table of Contents",
   "title_sidebar": "Contents",
   "toc_cell": false,
   "toc_position": {},
   "toc_section_display": true,
   "toc_window_display": false
  }
 },
 "nbformat": 4,
 "nbformat_minor": 4
}
